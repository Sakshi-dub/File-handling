{
  "cells": [
    {
      "cell_type": "markdown",
      "metadata": {
        "id": "_bIkNbC2z8oL"
      },
      "source": [
        "# Problem Statement\n",
        "The goal is to read data from popular file formats (.csv, .txt, .json), to perform operations on this data, and to finally save this modified data into the original file formats."
      ]
    },
    {
      "cell_type": "markdown",
      "source": [
        "# Data Description\n",
        "The dataset for this project has been provided in the *mainfolder.zip* file. It contains data about products for which the unique ID provided is the stock keeping unit or SKU for short. The ZIP file contains a structured collection of sales data and product information organized into a main folder with three key components:\n",
        "\n",
        "- **Sales Data** (*sales_data.csv*): A CSV file that includes sales data for various products over a 14-day period. Each row corresponds to a different product, identified by a *Product_SKU*. The columns *Day1* through *Day14* represent the sales figures for each consecutive day.\n",
        "\n",
        "- **Product Descriptions** (*product_descriptions* folder): This folder contains text files, each corresponding to a specific product identified by the SKU in the filename (e.g., *description_AISJDKFJW93NJ.txt*). These files provide descriptive information about the products.\n",
        "\n",
        "- **Product Details** (*product_details* folder): This folder includes JSON files, again with filenames corresponding to product SKUs (e.g., *details_AISJDKFJW93NJ.json*). These files contain detailed attributes of the products, such as specifications, category, pricing, etc.\n",
        "\n",
        "This dataset is suitable for analyzing daily sales performance of products, supplemented with detailed product information and descriptions to allow for a comprehensive analysis of sales trends in relation to product attributes and descriptions."
      ],
      "metadata": {
        "id": "hJ1m6tWtIhXS"
      }
    },
    {
      "cell_type": "markdown",
      "metadata": {
        "id": "TCi_8EQ_SKh2"
      },
      "source": [
        "# Outline\n",
        "The overall objective of this project is to create a system for managing product information in an e-commerce platform. The different stages involved in the process are outlined below:\n",
        "\n",
        "- Stage 1 - Set up project and load data\n",
        "    - Task 1 - Import required modules\n",
        "    - Task 2 - Load the data\n",
        "- Stage 2 - Create or update data\n",
        "    - Task 3 - Add or update sales data\n",
        "    - Task 4 - Add or update product details\n",
        "    - Task 5 - Add or update product description\n",
        "    - Task 6 - Update function\n",
        "- Stage 3 - Save data to disk\n",
        "    - Task 7 - Save data to disk"
      ]
    },
    {
      "cell_type": "markdown",
      "metadata": {
        "id": "nSDjItPDapX4"
      },
      "source": [
        "# Stage 1 - Set up project and load data\n",
        "In this stage, you will set up the environment for this assignment by loading the required modules and files. You will explore the files by displaying their content. You will achieve all of this by completing the following tasks:\n",
        "- Task 1 - Import required modules\n",
        "- Task 2 - Load the data"
      ]
    },
    {
      "cell_type": "markdown",
      "metadata": {
        "id": "7fwAly7Kc9ei"
      },
      "source": [
        "## Task 1 - Import required modules"
      ]
    },
    {
      "cell_type": "markdown",
      "metadata": {
        "id": "mWz3KDiuotgp"
      },
      "source": [
        "### Description\n",
        "In this task, you will import all the necessary modules and packages required for performing various operations in the project."
      ]
    },
    {
      "cell_type": "markdown",
      "metadata": {
        "id": "1IfJUOrG0JBZ"
      },
      "source": [
        "### Requirements\n",
        "Write code to import packages:\n",
        "\n",
        "- For navigating through files stored on your device or on Google Colaboratory\n",
        "- For working with JSON files\n",
        "- For working with CSV files"
      ]
    },
    {
      "cell_type": "markdown",
      "metadata": {
        "id": "tDTVcD_V0WVh"
      },
      "source": [
        "### Recommendations\n",
        "-  You can ask a generative AI tool like ChatGPT about the libraries that will be required to perform the given tasks.\n",
        "-  Have a look at each type of file to understand how data is stored within them."
      ]
    },
    {
      "cell_type": "markdown",
      "metadata": {
        "id": "3hjXLR-lwERP"
      },
      "source": [
        "First, import the required packages."
      ]
    },
    {
      "cell_type": "code",
      "execution_count": null,
      "metadata": {
        "id": "uKKJxfEj6o1C"
      },
      "outputs": [],
      "source": [
        "# Use this cell to import all the required packages and methods\n",
        "\n",
        "# Import package for navigating through files stored on your device/on Google Colaboratory\n",
        "import os\n",
        "\n",
        "# Import package for working with JSON files\n",
        "import json\n",
        "\n",
        "# Import package for working with CSV files\n",
        "import csv"
      ]
    },
    {
      "cell_type": "markdown",
      "metadata": {
        "id": "CK1NbJlcow44"
      },
      "source": [
        "### Checklist\n",
        "- Imported the required packages."
      ]
    },
    {
      "cell_type": "markdown",
      "metadata": {
        "id": "BOLRp-Ydph2X"
      },
      "source": [
        "## Task 2 - Load the data"
      ]
    },
    {
      "cell_type": "markdown",
      "metadata": {
        "id": "KEk36hiNTbfE"
      },
      "source": [
        "# Introduction\n",
        "Efficient management of product information is essential for the success of e-commerce businesses. This information enables informed decision-making and facilitates effective marketing strategies. File handling plays a key role in being able to manage such data, and Python allows us to handle various file formats which are used to store such data.\n",
        "\n",
        "In this project, we are going to learn how to load, modify, and save files of three popular file formats which are used in the industry to handle data. These formats are:\n",
        "\n",
        "- **CSV**: CSV or comma-separated value files come with the file suffix *.csv* and, as the name suggests, have data values separated by commas. Each data entry is placed on a new line, and typically, the first line tends to store the names of columns. In our dataset, a CSV file is used to store sales values for each product over 14 days.\n",
        "\n",
        "- **JSON**: JSON or JavaScript object notation files come with the file suffix *.json* and store data as key-value pairs, similar to dictionaries in Python. In our dataset, JSON files are used to store details such as product names, prices, and brands.\n",
        "\n",
        "- **TXT**: TXT or text files come with the file suffix *.txt* and generally useful for storing single variables like strings or integers. In our dataset, TXT files are used to store descriptions of products."
      ]
    },
    {
      "cell_type": "markdown",
      "metadata": {
        "id": "n3LqSPrspl8b"
      },
      "source": [
        "### Description\n",
        "In this task, you will write a function that ensures that the necessary files are loaded into the environment. To index the data, you will use a unique identifier called SKU.\n",
        "\n",
        "This includes loading sales data from a CSV file, product details from JSON files, and product descriptions from text files. We recommend that you either use Jupyter Notebook or Google Colab to build and execute your code."
      ]
    },
    {
      "cell_type": "markdown",
      "metadata": {
        "id": "x1pJXGbJqeIy"
      },
      "source": [
        "### Requirements\n",
        "- In case you are using Google Colab:\n",
        "    - upload your files directly from your PC to colab or\n",
        "    - import `drive` from `google.colab` and mount your Google Drive\n",
        "- In case you are using Jupyter Notebook, please make sure that your files and folders are all in the right place.\n",
        "- Unzip the data and save the location of the main folder in a variable called `main_folder_address`.\n",
        "- Define a function `load_data()`:\n",
        "    - The function must read\n",
        "      - Sales data from *sales_data.csv* file,\n",
        "      - Product details from JSON files in the *product_details* folder, and\n",
        "      - Product descriptions from the TXT files in *product_descriptions* folder.\n",
        "      \n",
        "    - Once the data has been loaded, it must be stored in three dictionaries, one for sales data, another for product details, and another for product descriptions.\n",
        "    - The three dictionaries should have the product SKU as keys and:\n",
        "        - In the `product_details` dictionary, the values should also be dictionaries containing detailed attributes of the products, such as specifications, category, pricing, etc.\n",
        "        - In the `sales_data` dictionary, the values should be lists consisting of the sales data from the last 14 days.\n",
        "        - In the `product_descriptions` dictionary, the values should be strings in which the product description is saved.\n",
        "    - It should have the following keyword argument:\n",
        "        - *mainfolder*: A string that describes the address of the parent data folder in the memory.\n",
        "    - The functions should return a tuple containing three dictionaries:\n",
        "        - `product_details`: A dictionary of dictionaries where keys are product SKUs (extracted from the filenames of the JSON files) and values are product details loaded from the JSON files.\n",
        "        - `sales_data`: A dictionary where keys are product SKUs (from the CSV file) and values are lists of quantities corresponding to sales data.\n",
        "        - `product_descriptions`: A dictionary where keys are product SKUs (extracted from the filenames of the TXT files) and values are product descriptions loaded from TXT files."
      ]
    },
    {
      "cell_type": "markdown",
      "metadata": {
        "id": "5lfU3Pq-67sn"
      },
      "source": [
        "### Recommendations\n",
        "- If you are using Google Colab:\n",
        "  - Upload the zip file containing the files in Google Drive or upload the zip file directly to the Google Colab runtime.\n",
        "    - Then unzip it using `unzip` shell command which you can access using the `!` (exclamation mark) character.\n",
        "  - Once you have mounted Google Drive into your Google Colab VM or uploaded the zip file directly to the Google Colab runtime.\n",
        "    - You can use the *Files* section on the left to access the filesystem. You can right click on a file or folder to copy its path. This will be useful while specifying the source file in the `unzip` shell command.\n",
        "  - You will need to pass the location of the main folder into the `load_data()` function to load *sales_data.csv* file and the files in *product_details* and *product_description* folders.\n",
        "- Inside the `load_data()` function, you can:\n",
        "    - use the `csv.DictReader()` method to read the *sales_data.csv* file, and to store the data as dictionaries with key-value pairs where the keys correspond to the column names in the first row,\n",
        "    - use the `os.listdir()` method to obtain the names of the files and folders within a particular folder,\n",
        "    - use `os.path.join()` to construct file paths,\n",
        "    - use the `json.load()` method to load JSON files, and\n",
        "    - use the `open()` function to load the text files.\n",
        "-  As you need to use the SKUs as keys in all three dictionaries, you can ask a generative AI tool like ChatGPT on how to extract the SKU values in all three cases.\n",
        "    - In *sales_data.csv* they have been saved in a column titled *Product_SKU*\n",
        "    - For the other two, you need to extract the SKU from the file name: you must obtain the SKU which lies between the prefix and the suffix. Try using the in-built string function `split()` (additionally, you can use `replace()` if you wish to write the code in one line).\n",
        "    - Provide the data description and requirements to ChatGPT along with the libraries that you are using and ask it to generate code for the function.\n",
        "    - If you get stuck somewhere, you can ask ChatGPT to explain the code to you and you can make edits as required."
      ]
    },
    {
      "cell_type": "markdown",
      "metadata": {
        "id": "VQRLEoiZ-QxY"
      },
      "source": [
        "First, if you are using Google Colab, mount Google Drive to your VM. If not, skip and comment out this cell."
      ]
    },
    {
      "cell_type": "code",
      "execution_count": null,
      "metadata": {
        "id": "SKYzyofLO8KU"
      },
      "outputs": [],
      "source": [
        "# Use this cell to write your code for mounting your Google Drive\n",
        "# Note: If you are not using Google Colab, please skip this cell\n",
        "\n",
        "# In case you are using Google Colab, mount your Google Drive before moving on\n",
        "# from google.colab import drive\n",
        "# drive.mount('/content/drive', force_remount = True)"
      ]
    },
    {
      "cell_type": "markdown",
      "metadata": {
        "id": "EChyWcmq-5Vi"
      },
      "source": [
        "If you are using Colab, after mounting the drive you need to unzip the files to extract all the images inside it. Note that you don't need to perform this step more than once, so we recommend that you comment out your code for this step once it has executed."
      ]
    },
    {
      "cell_type": "code",
      "execution_count": null,
      "metadata": {
        "id": "-6mxIHoPO7Um"
      },
      "outputs": [],
      "source": [
        "# Use this cell to write your code for unzipping the data and storing it in Google Drive\n",
        "# Note: If you are not using Google Colab, please skip this cell\n",
        "# Note: You can comment out this cell after running it once\n",
        "\n",
        "# Unzip your files and store them in your drive\n",
        "# !unzip /content/drive/MyDrive/File_Handling_Project/mainfolder.zip"
      ]
    },
    {
      "cell_type": "markdown",
      "metadata": {
        "id": "LeX06K8AFxnC"
      },
      "source": [
        "**Alternatively,** you can also upload files to the Google Colab runtime environment without mounting Google Drive. In this case so you will always be in the same path/directory inside your Google Colab runtime. Files will be saved into your runtime and not into your Google Drive.\n",
        "The files you uploaded will be available until you delete the runtime."
      ]
    },
    {
      "cell_type": "code",
      "execution_count": null,
      "metadata": {
        "id": "eupwHKLZEE3b"
      },
      "outputs": [],
      "source": [
        "# Use this cell to write your code for uploading the zip file\n",
        "# Note: If you are not using Google Colab, please skip this cell\n",
        "\n",
        "# Upload the zip file to Google Colab runtime\n",
        "# from google.colab import files\n",
        "# uploaded = files.upload()"
      ]
    },
    {
      "cell_type": "code",
      "execution_count": null,
      "metadata": {
        "id": "lh8skyqy7Qb6"
      },
      "outputs": [],
      "source": [
        "def load_data(main_folder):\n",
        "    \"\"\"\n",
        "    Load product details, sales data, and product descriptions from files within the specified zip file.\n",
        "\n",
        "    Parameters:\n",
        "        main_folder (str): The path to the zip file containing the dataset.\n",
        "\n",
        "    Returns:\n",
        "        tuple: A tuple containing three dictionaries:\n",
        "            - product_details (dict): A dictionary of dictionaries where keys are product SKUs (extracted from the filenames of the JSON files)\n",
        "              and values are product details loaded from the JSON files.\n",
        "            - sales_data (dict): A dictionary where keys are product SKUs (from the CSV file) and values are lists\n",
        "              of quantities corresponding to sales data.\n",
        "            - product_descriptions (dict): A dictionary where keys are product SKUs (extracted from the filenames of the TXT files)\n",
        "              and values are product descriptions loaded from TXT files.\n",
        "    \"\"\"\n",
        "    product_details = {}\n",
        "    sales_data = {}\n",
        "    product_descriptions = {}\n",
        "\n",
        "    # Use zipfile.ZipFile to open the zip file\n",
        "    import zipfile # Import the zipfile module\n",
        "    with zipfile.ZipFile(main_folder , 'r') as zip_ref:\n",
        "        zip_ref.extractall('extracted_data')\n",
        "\n",
        "        # Load JSON files\n",
        "        json_folder = os.path.join('extracted_data', 'product_details')  # Corrected folder name\n",
        "        for json_file in os.listdir(json_folder):\n",
        "            if json_file.endswith('.json'):\n",
        "                sku = json_file[:-5]  # Extract SKU from filename\n",
        "                with open(os.path.join(json_folder, json_file), 'r') as f:\n",
        "                    product_details[sku] = json.load(f)\n",
        "\n",
        "        # Load CSV file\n",
        "        csv_file_path = os.path.join('extracted_data', 'sales_data.csv')  # Corrected filename\n",
        "        with open(csv_file_path, 'r') as csv_file:\n",
        "            reader = csv.DictReader(csv_file)\n",
        "            for row in reader:\n",
        "                sku = row['Product_SKU']  # Corrected column name\n",
        "                quantities = [int(row[f'Day{i}']) for i in range(1, 15)]  # Extract sales data for 14 days\n",
        "                sales_data[sku] = quantities\n",
        "\n",
        "        # Load TXT files\n",
        "        txt_folder = os.path.join('extracted_data', 'product_descriptions')  # Corrected folder name\n",
        "        for txt_file in os.listdir(txt_folder):\n",
        "            if txt_file.endswith('.txt'):\n",
        "                sku = txt_file[:-4]  # Extract SKU from filename\n",
        "                with open(os.path.join(txt_folder, txt_file), 'r') as f:\n",
        "                    product_descriptions[sku] = f.read()\n",
        "\n",
        "    return product_details, sales_data, product_descriptions  # Ensure function returns the expected tuple\n"
      ]
    },
    {
      "cell_type": "markdown",
      "metadata": {
        "id": "ze-qtCwAGlhp"
      },
      "source": [
        "After uploading your zip file to Google Colab runtime you need to unzip the files to extract all the files inside it."
      ]
    },
    {
      "cell_type": "code",
      "execution_count": null,
      "metadata": {
        "id": "JpKP8qUVuC2n",
        "collapsed": true
      },
      "outputs": [],
      "source": [
        "# Use this cell to write your code for unzipping the data and storing it in Google Colab runtime\n",
        "# Note: If you are not using Google Colab, please skip this cell\n",
        "# Note: You can comment out this cell after running it once\n",
        "\n",
        "# Unzip your files and store them in Google Colab runtime\n",
        "!unzip /content/mainfolder.zip"
      ]
    },
    {
      "cell_type": "markdown",
      "metadata": {
        "id": "DiYKN_QJlRBE"
      },
      "source": [
        "Now define the *load_data()* function."
      ]
    },
    {
      "cell_type": "markdown",
      "metadata": {
        "id": "bRjwNJj67LP_"
      },
      "source": [
        "Load your data here"
      ]
    },
    {
      "cell_type": "code",
      "execution_count": null,
      "metadata": {
        "id": "mkeH5Ba17Qmv"
      },
      "outputs": [],
      "source": [
        "# Use this cell to load the files\n",
        "main_folder_address = '/content/mainfolder'\n",
        "product_details, sales_data, product_descriptions = load_data(main_folder_address)"
      ]
    },
    {
      "cell_type": "markdown",
      "metadata": {
        "id": "Rf3FIRGg_G2b"
      },
      "source": [
        "### Checklist\n",
        "- Defined the `load_data()` function which takes in the given keyword arguments and returns the given variables.\n",
        "- Used the `load_data()` function to load data into `sales_data`, `product_details` and `product_descriptions`.\n",
        "- `sales_data, product_details` and `product_descriptions` are of the type `dict`.\n",
        "- Items in `sales_data, product_details`, and `product_descriptions` are as follows:\n",
        "    - `sales_data` contains product SKUs mapped to lists of whole numbers representing the amount of product sold per day,\n",
        "    - `product_details` contains product SKUs mapped to dictionaries containing various details such as product name, brand, model, specifications, price, and availability, and\n",
        "    - `product_descriptions` contains product SKUs mapped to strings representing descriptions of the corresponding products."
      ]
    },
    {
      "cell_type": "markdown",
      "metadata": {
        "id": "-s3el3T2A41B"
      },
      "source": [
        "# Stage 2 - Update data\n",
        "In this stage, you will define a function `update()` to add sales data, product details, and product descriptions for a new product or update an existing product. If the product does not exist, the function will default to creating a new product. If the product exists, the function will instead update that product. You will also define some sub-functions to complete smaller tasks.\n",
        "\n",
        "You will achieve this by completing the following tasks:\n",
        "- Task 3 - Update sales data\n",
        "- Task 4 - Update product details\n",
        "- Task 5 - Update product description\n",
        "- Task 6 - Update function"
      ]
    },
    {
      "cell_type": "markdown",
      "metadata": {
        "id": "KR9w5MtF2iuy"
      },
      "source": [
        "## Task 3 - Update sales data"
      ]
    },
    {
      "cell_type": "markdown",
      "metadata": {
        "id": "3sv3srpNP0by"
      },
      "source": [
        "### Description\n",
        "In this task, you will write a function to add sales data for a new product or update sales data for an existing product given the SKU and the quantities that need to be added or updated."
      ]
    },
    {
      "cell_type": "markdown",
      "metadata": {
        "id": "yuS0kGCbP93D"
      },
      "source": [
        "### Requirements\n",
        "- Define a function named `update_sales_data()` that:\n",
        "  - Adds new sales data or updates existing sales data to the `sales_data` dicitionary using the SKU as a key.\n",
        "  - The function should accept the following parameters:\n",
        "    - the `sales_data` dictionary,\n",
        "    - the `sku` value, and\n",
        "    - a list called `quantities` consisting of numeric sales data.\n",
        "- The function should return:\n",
        "    - The updated `sales_data` dictionary after creating the entry for the new SKU or updating the entry for an existing SKU."
      ]
    },
    {
      "cell_type": "code",
      "execution_count": null,
      "metadata": {
        "id": "RdPeCXd22MJ5"
      },
      "outputs": [],
      "source": [
        "def update_sales_data(sales_data, sku, quantities):\n",
        "    \"\"\"\n",
        "    Add sales data for a new product SKU or update the sales data for an existing product SKU.\n",
        "\n",
        "    Parameters:\n",
        "        sales_data (dict): The dictionary containing sales data.\n",
        "        sku (str): The product SKU.\n",
        "        quantities (list of int): List of quantities sold for each of the past 14 days.\n",
        "\n",
        "    Returns:\n",
        "        dict: The updated sales data after adding the entry for the new SKU or modifying the entry for an existing SKU.\n",
        "    \"\"\"\n",
        "\n",
        "    # Check if the SKU already exists in sales_data\n",
        "    if sku in sales_data:\n",
        "        # If it exists, we append the quantities to the existing list (or could update if needed)\n",
        "        sales_data[sku].extend(quantities)\n",
        "    else:\n",
        "        # If the SKU is not present, we add a new entry with the given quantities\n",
        "        sales_data[sku] = quantities\n",
        "\n",
        "\n",
        "\n",
        "    return sales_data"
      ]
    },
    {
      "cell_type": "markdown",
      "metadata": {
        "id": "vOvcL_J5Cn51"
      },
      "source": [
        "Check your code here."
      ]
    },
    {
      "cell_type": "code",
      "execution_count": null,
      "metadata": {
        "id": "Uzf-TuD5CqEm",
        "colab": {
          "base_uri": "https://localhost:8080/",
          "height": 193
        },
        "outputId": "ba00bb47-e31c-4078-ae8a-6bf3ee6902cd"
      },
      "outputs": [
        {
          "output_type": "error",
          "ename": "NameError",
          "evalue": "name 'sales_data' is not defined",
          "traceback": [
            "\u001b[0;31m---------------------------------------------------------------------------\u001b[0m",
            "\u001b[0;31mNameError\u001b[0m                                 Traceback (most recent call last)",
            "\u001b[0;32m<ipython-input-20-8211b70f9b61>\u001b[0m in \u001b[0;36m<cell line: 1>\u001b[0;34m()\u001b[0m\n\u001b[0;32m----> 1\u001b[0;31m \u001b[0msales_data\u001b[0m \u001b[0;34m=\u001b[0m \u001b[0mupdate_sales_data\u001b[0m\u001b[0;34m(\u001b[0m\u001b[0msales_data\u001b[0m\u001b[0;34m,\u001b[0m \u001b[0;34m'CMWKCILOP27KF'\u001b[0m\u001b[0;34m,\u001b[0m\u001b[0;34m[\u001b[0m\u001b[0;36m8\u001b[0m\u001b[0;34m,\u001b[0m \u001b[0;36m14\u001b[0m\u001b[0;34m,\u001b[0m \u001b[0;36m16\u001b[0m\u001b[0;34m,\u001b[0m \u001b[0;36m7\u001b[0m\u001b[0;34m,\u001b[0m \u001b[0;36m15\u001b[0m\u001b[0;34m,\u001b[0m \u001b[0;36m21\u001b[0m\u001b[0;34m,\u001b[0m \u001b[0;36m14\u001b[0m\u001b[0;34m,\u001b[0m \u001b[0;36m16\u001b[0m\u001b[0;34m,\u001b[0m \u001b[0;36m32\u001b[0m\u001b[0;34m,\u001b[0m \u001b[0;36m29\u001b[0m\u001b[0;34m,\u001b[0m \u001b[0;36m26\u001b[0m\u001b[0;34m,\u001b[0m \u001b[0;36m30\u001b[0m\u001b[0;34m,\u001b[0m \u001b[0;36m25\u001b[0m\u001b[0;34m,\u001b[0m \u001b[0;36m22\u001b[0m\u001b[0;34m]\u001b[0m\u001b[0;34m)\u001b[0m\u001b[0;34m\u001b[0m\u001b[0;34m\u001b[0m\u001b[0m\n\u001b[0m\u001b[1;32m      2\u001b[0m \u001b[0;34m\u001b[0m\u001b[0m\n\u001b[1;32m      3\u001b[0m \u001b[0;34m\u001b[0m\u001b[0m\n\u001b[1;32m      4\u001b[0m \u001b[0;34m\u001b[0m\u001b[0m\n",
            "\u001b[0;31mNameError\u001b[0m: name 'sales_data' is not defined"
          ]
        }
      ],
      "source": [
        "sales_data = update_sales_data(sales_data, 'CMWKCILOP27KF',[8, 14, 16, 7, 15, 21, 14, 16, 32, 29, 26, 30, 25, 22])\n",
        "\n",
        "\n"
      ]
    },
    {
      "cell_type": "markdown",
      "metadata": {
        "id": "iJ1PeYvAP9nI"
      },
      "source": [
        "### Checklist\n",
        "- Function `update_sales_data()` defined.\n",
        "- Modified the `sales_data` dictionary to reflect the newly added or updated product.\n",
        "- Updated `sales_data` dictionary returned."
      ]
    },
    {
      "cell_type": "markdown",
      "metadata": {
        "id": "276dzYC32PIS"
      },
      "source": [
        "## Task 4 - Update product details"
      ]
    },
    {
      "cell_type": "markdown",
      "metadata": {
        "id": "-I8sKosLT5sl"
      },
      "source": [
        "### Description\n",
        "In this task, you will write a function to add product details for a new product or update product details for an existing product using the product SKU."
      ]
    },
    {
      "cell_type": "markdown",
      "metadata": {
        "id": "OkfZCY48T5ss"
      },
      "source": [
        "### Requirements\n",
        "- Define a function named `update_product_details()` that adds new product details to or updates existing product details in the `product_details` dictionary using the SKU as the key.\n",
        "- The function should accept three parameters:\n",
        "  - the `product_details` dictionary,\n",
        "  - the `sku` value, and\n",
        "  - a dictionary called `product_info` containing the details of the product, such as product name, brand, model, specifications, price, and availability.\n",
        "- The function adds the `product_info` dictionary to the `product_details` dictionary with the provided SKU as the key if the SKU does not exist, or updates the existing entry if it does.\n",
        "- Return the updated `product_details` dictionary."
      ]
    },
    {
      "cell_type": "code",
      "source": [],
      "metadata": {
        "id": "5w_lxQn9jYk8"
      },
      "execution_count": null,
      "outputs": []
    },
    {
      "cell_type": "code",
      "execution_count": null,
      "metadata": {
        "id": "uiOO_eNr2PkA"
      },
      "outputs": [],
      "source": [
        "def update_product_details(product_details, sku, product_info):\n",
        "    \"\"\"\n",
        "    Create a new product/update an existing product details entry in the product details dictionary using the provided product information.\n",
        "\n",
        "    Parameters:\n",
        "        product_details (dict): The dictionary containing product details.\n",
        "        sku (str): The product SKU.\n",
        "        product_info (dict): A dictionary containing the details of the product, such as product name, brand, model, specifications, price, and availability.\n",
        "\n",
        "    Returns:\n",
        "        dict: The updated product details with the new or updated product entry.\n",
        "    \"\"\"\n",
        "\n",
        "    # Check if the SKU already exists in product_details\n",
        "    if sku in product_details:\n",
        "        # If it exists, update the existing details with the new product_info\n",
        "        product_details[sku].update(product_info)\n",
        "    else:\n",
        "        # If the SKU is not present, add a new entry for the SKU with the given product_info\n",
        "        product_details[sku] = product_info\n",
        "\n",
        "    return product_details"
      ]
    },
    {
      "cell_type": "markdown",
      "metadata": {
        "id": "cpYk9yK1Cq5H"
      },
      "source": [
        "Check your code here."
      ]
    },
    {
      "cell_type": "code",
      "execution_count": 1,
      "metadata": {
        "id": "6ljskEWSCrQq",
        "colab": {
          "base_uri": "https://localhost:8080/",
          "height": 106
        },
        "outputId": "91474ce3-f091-4d72-e0a6-176fb2f54a59"
      },
      "outputs": [
        {
          "output_type": "error",
          "ename": "SyntaxError",
          "evalue": "'(' was never closed (<ipython-input-1-00a6f4989b16>, line 1)",
          "traceback": [
            "\u001b[0;36m  File \u001b[0;32m\"<ipython-input-1-00a6f4989b16>\"\u001b[0;36m, line \u001b[0;32m1\u001b[0m\n\u001b[0;31m    product_details = update_product_details(product_details,\u001b[0m\n\u001b[0m                                            ^\u001b[0m\n\u001b[0;31mSyntaxError\u001b[0m\u001b[0;31m:\u001b[0m '(' was never closed\n"
          ]
        }
      ],
      "source": [
        "  product_details = update_product_details(product_details,\n",
        "         sku = \"1234567890123\"  # Replace with the actual SKU of the product\n",
        "product_info = {\n",
        "    \"name\": \"Product Name\",\n",
        "    \"brand\": \"Product Brand\",\n",
        "    \"model\": \"Product Model\",\n",
        "    \"specifications\": \"Product Specifications\",\n",
        "    \"price\": \"Product Price\",\n",
        "    \"availability\": \"Product Availability\"\n",
        "}  # Replace with the actual product details\n",
        "\n",
        "# Update the product details dictionary\n",
        "product_details = update_product_details(product_details, sku, product_info)\n",
        "\n",
        "\n",
        "product_details"
      ]
    },
    {
      "cell_type": "markdown",
      "metadata": {
        "id": "UK1tyUi4UDwK"
      },
      "source": [
        "### Checklist\n",
        "- Function `update_product_details()` defined.\n",
        "- Modified the `product_details` dictionary to reflect the newly added or updated product.\n",
        "- Updated `product_details` dictionary returned."
      ]
    },
    {
      "cell_type": "markdown",
      "metadata": {
        "id": "NbsIu0TT2R4H"
      },
      "source": [
        "## Task 5 - Update product description"
      ]
    },
    {
      "cell_type": "markdown",
      "metadata": {
        "id": "eLsJVtWtT6Wn"
      },
      "source": [
        "### Description\n",
        "In this task, you will write a function to add a product description for the new product using its product SKU."
      ]
    },
    {
      "cell_type": "markdown",
      "metadata": {
        "id": "ZYE0bb3bT6Wn"
      },
      "source": [
        "### Requirements\n",
        "- Define a function named `update_product_description()` that adds a new product description to or updates an existing product description in the `product_descriptions` dictionary using the SKU as the key.\n",
        "- The function should accept three parameters:\n",
        "  - the `product_descriptions` dictionary,\n",
        "  - the `sku` value, and\n",
        "  - the `description`, a string containing the description of the product.\n",
        "- The function adds the new product description to the `product_descriptions` dictionary with the provided SKU as the key if the SKU does not exist, or updates the existing entry if it does.\n",
        "- Return the updated `product_descriptions` dictionary."
      ]
    },
    {
      "cell_type": "code",
      "execution_count": null,
      "metadata": {
        "id": "gto9F0P82SIv"
      },
      "outputs": [],
      "source": [
        "def update_product_description(product_descriptions, sku, description):\n",
        "    \"\"\"\n",
        "    Adds a new product/updates an existing product description to the product descriptions dictionary using the provided SKU as the key.\n",
        "\n",
        "    Parameters:\n",
        "        product_descriptions (dict): The dictionary containing existing product descriptions.\n",
        "        sku (str): The product SKU.\n",
        "        description (str): The description of the product.\n",
        "\n",
        "    Returns:\n",
        "        dict: The updated product descriptions dictionary with the new or updated product description.\n",
        "    \"\"\"\n",
        "\n",
        "    # Check if the SKU already exists in the product_descriptions dictionary\n",
        "    product_descriptions[sku] = description\n",
        "\n",
        "    return product_descriptions"
      ]
    },
    {
      "cell_type": "markdown",
      "metadata": {
        "id": "pDn1TCSLCr_R"
      },
      "source": [
        "Check your code here."
      ]
    },
    {
      "cell_type": "code",
      "execution_count": null,
      "metadata": {
        "id": "4rm960DECsUF",
        "colab": {
          "base_uri": "https://localhost:8080/",
          "height": 106
        },
        "outputId": "6b577b53-f0d2-41e7-a923-c2aff9e00532"
      },
      "outputs": [
        {
          "output_type": "error",
          "ename": "SyntaxError",
          "evalue": "'(' was never closed (<ipython-input-13-36e579f258a9>, line 1)",
          "traceback": [
            "\u001b[0;36m  File \u001b[0;32m\"<ipython-input-13-36e579f258a9>\"\u001b[0;36m, line \u001b[0;32m1\u001b[0m\n\u001b[0;31m    product_descriptions = update_product_description(product_descriptions,\u001b[0m\n\u001b[0m                                                     ^\u001b[0m\n\u001b[0;31mSyntaxError\u001b[0m\u001b[0;31m:\u001b[0m '(' was never closed\n"
          ]
        }
      ],
      "source": [
        "product_descriptions = update_product_description(product_descriptions,\n",
        "        sku = \"1234567890123\",  # Replace with the actual SKU you want to update\n",
        "        description = \"This is a detailed description of the product.\"  # Replace with the actual product description\n",
        ")\n",
        "\n",
        "product_descriptions\n",
        "\n",
        "# Update the product descriptions dictionary\n",
        "product_descriptions = update_product_description(product_descriptions, sku, description)\n",
        "\n",
        "product_descriptions"
      ]
    },
    {
      "cell_type": "markdown",
      "metadata": {
        "id": "HxVoqK32UEpS"
      },
      "source": [
        "### Checklist\n",
        "- Function `update_product_description()` defined\n",
        "- Modified `product_descriptions` dictionary to reflect the newly added or updated description.\n",
        "- Updated `product_descriptions` dictionary returned"
      ]
    },
    {
      "cell_type": "markdown",
      "metadata": {
        "id": "R5N6bVo82VF3"
      },
      "source": [
        "## Task 6 - Update function"
      ]
    },
    {
      "cell_type": "markdown",
      "metadata": {
        "id": "a8ACLR0kT65r"
      },
      "source": [
        "### Description\n",
        "In this task, you will write a function that combines the functionalities of adding sales data, product details, and product description for a new product SKU, or updating these for an existing product SKU."
      ]
    },
    {
      "cell_type": "markdown",
      "metadata": {
        "id": "GLPOHSC5T65r"
      },
      "source": [
        "### Requirements\n",
        "- Define a function named `update()` that collects comprehensive information about a new or existing product from the user, validates the input, and modifies the respective dictionaries with product details, sales data, and product descriptions to reflect the addition or update of the provided product.\n",
        "- The function should accept three parameters:\n",
        "  - `product_details`: A dictionary containing product details. Each entry maps an SKU to its corresponding product details.\n",
        "  - `sales_data`: A dictionary containing sales data. Each entry maps an SKU to a list of sales quantities for the last 14 days.\n",
        "  - `product_descriptions`: A dictionary containing product descriptions. Each entry maps an SKU to its corresponding textual description.\n",
        "- The function performs several operations:\n",
        "  - Prompts the user to input the SKU, which must be exactly 13 characters long. If the SKU does not meet this requirement, print an error message and terminate the function without updating any dictionaries.\n",
        "  - Prompts the user to enter sales data for the last 14 days, which must consist of exactly 14 whole numbers separated by spaces. If the input does not meet this criterion, print an error message and terminate the function without updating any dictionaries.\n",
        "  - Collects product details from the user, including name, brand, model, specifications, price, and availability. These inputs are required but not subject to specific validation criteria for this function.\n",
        "  - Prompts the user for a product description, which is also required for successful product registration.\n",
        "- If all inputs are validated successfully, the function updates the `product_details`, `sales_data`, and `product_descriptions` dictionaries with the provided product information and prints a success message.\n",
        "- Returns a tuple containing the updated `product_details`, `sales_data`, and `product_descriptions` dictionaries in that order.\n",
        "- The function is designed for use when a new product is to be added to the system or when an existing product in the system needs to be updated, and requires the caller to pass the current state of the `product_details`, `sales_data`, and `product_descriptions` dictionaries.\n"
      ]
    },
    {
      "cell_type": "markdown",
      "metadata": {
        "id": "DdqcaLI1T65s"
      },
      "source": [
        "### Recommendations\n",
        "- You can use if-else statements to check the validity of the data inputted by the user.\n",
        "- Use a list comprehension to prepare the sales data before saving it in the dictionary.\n",
        "- Use the previously defined functions to perform the actions after validating user's input."
      ]
    },
    {
      "cell_type": "code",
      "execution_count": null,
      "metadata": {
        "id": "-nqyMs8IPhnR"
      },
      "outputs": [],
      "source": [
        "def update(product_details, sales_data, product_descriptions):\n",
        "    \"\"\"\n",
        "    Collects comprehensive information about a new or existing product from the user, validates the input, and updates the respective dictionaries with product details, sales data, and descriptions.\n",
        "\n",
        "    This function performs a series of prompts to the user to input the SKU, sales data for the last 14 days, product details (including name, brand, model, specifications, price, and availability), and a product description. Each input is validated for specific criteria:\n",
        "\n",
        "    - The SKU must be exactly 13 characters long.\n",
        "    - Sales data must consist of exactly 14 whole numbers, representing sales for the last 14 days.\n",
        "    - Product details and description inputs are collected without specific validation but are required for successful product registration.\n",
        "\n",
        "    If any validation fails, the function prints an error message and terminates without updating any of the dictionaries, ensuring data integrity and consistency across product records.\n",
        "\n",
        "    Parameters:\n",
        "        product_details (dict): A dictionary containing existing product details. Each entry maps an SKU to its corresponding product details.\n",
        "        sales_data (dict): A dictionary containing sales data. Each entry maps an SKU to a list of sales quantities for the last 14 days.\n",
        "        product_descriptions (dict): A dictionary containing product descriptions. Each entry maps an SKU to its corresponding textual description.\n",
        "\n",
        "    Returns:\n",
        "        tuple: A tuple containing the updated dictionaries (product_details, sales_data, product_descriptions) in that order.\n",
        "\n",
        "    Usage:\n",
        "        The function is designed to be called when a new product is to be added to the system or an existing one in the system is to be updated. It requires the caller to pass the current state of the product_details, sales_data, and product_descriptions dictionaries, and returns their updated states.\n",
        "    \"\"\"\n",
        "\n",
        "    # Prompt user for SKU and validate it\n",
        "    sku = input(\"Enter the SKU (13 characters): \")\n",
        "    if len(sku) != 13:\n",
        "        print(\"Error: SKU must be exactly 13 characters.\")\n",
        "        return product_details, sales_data, product_descriptions\n",
        "\n",
        "    # Check if SKU already exists, and prompt to either update or add new data\n",
        "    if sku in product_details:\n",
        "        print(f\"Updating existing product with SKU: {sku}\")\n",
        "    else:\n",
        "        print(f\"Adding new product with SKU: {sku}\")\n",
        "\n",
        "    # Prompt user for sales data and validate it\n",
        "    try:\n",
        "        sales_data_input = input(\"Enter sales data for the last 14 days (comma-separated): \")\n",
        "        sales_quantities = list(map(int, sales_data_input.split(',')))\n",
        "        if len(sales_quantities) != 14:\n",
        "            print(\"Error: Sales data must contain exactly 14 values.\")\n",
        "            return product_details, sales_data, product_descriptions\n",
        "    except ValueError:\n",
        "        print(\"Error: Sales data must be a list of integers.\")\n",
        "        return product_details, sales_data, product_descriptions\n",
        "\n",
        "    # Prompt user for product details\n",
        "    product_name = input(\"Enter product name: \")\n",
        "    product_brand = input(\"Enter product brand: \")\n",
        "    product_model = input(\"Enter product model: \")\n",
        "    product_specifications = input(\"Enter product specifications: \")\n",
        "    product_price = input(\"Enter product price: \")\n",
        "    product_availability = input(\"Enter product availability: \")\n",
        "\n",
        "    # Ensure product details are filled out\n",
        "    if not (product_name and product_brand and product_model and product_specifications and product_price and product_availability):\n",
        "        print(\"Error: All product details must be provided.\")\n",
        "        return product_details, sales_data, product_descriptions\n",
        "\n",
        "    product_info = {\n",
        "        \"name\": product_name,\n",
        "        \"brand\": product_brand,\n",
        "        \"model\": product_model,\n",
        "        \"specifications\": product_specifications,\n",
        "        \"price\": product_price,\n",
        "        \"availability\": product_availability\n",
        "    }\n",
        "\n",
        "    # Prompt user for product description\n",
        "    description = input(\"Enter product description: \")\n",
        "\n",
        "    # Add or update product details, sales data, and description\n",
        "    product_details = update_product_details(product_details, sku, product_info)\n",
        "    sales_data = update_sales_data(sales_data, sku, sales_quantities)\n",
        "    product_descriptions = update_product_description(product_descriptions, sku, description)\n",
        "\n",
        "\n",
        "    return product_details, sales_data, product_descriptions"
      ]
    },
    {
      "cell_type": "markdown",
      "metadata": {
        "id": "LEyahKVZCtpR"
      },
      "source": [
        "Check your code here."
      ]
    },
    {
      "cell_type": "code",
      "execution_count": null,
      "metadata": {
        "id": "IxJZUWfX9Rgs"
      },
      "outputs": [],
      "source": [
        "product_details, sales_data, product_descriptions = update(product_details, sales_data, product_descriptions)"
      ]
    },
    {
      "cell_type": "markdown",
      "metadata": {
        "id": "aC5XgGg0UF4n"
      },
      "source": [
        "### Checklist\n",
        "- Prompt for and validate SKU length (13 characters).\n",
        "- Collected sales data for 14 days and ensure it includes exactly 14 whole numbers.\n",
        "- Gathered product name, brand, model, specifications, price, and availability.\n",
        "- Collected a textual description of the product.\n",
        "- Updated `product_details`, `sales_data`, and `product_descriptions` dictionaries after successful data validation.\n",
        "- Returned the updated dictionaries in the correct order.\n",
        "- Performed all validations before dictionary updates to maintain data integrity."
      ]
    },
    {
      "cell_type": "markdown",
      "metadata": {
        "id": "q8WDGtEcj_Xn"
      },
      "source": [
        "# Stage 3 - Save data to disk\n",
        "In the this stage, learners are tasked with creating a `dump_data()` function which will allow the newly modified files to be saved in their corresponding file formats: CSV for sales data, JSON for product details, and plain text (.txt) for product descriptions.\n",
        "\n",
        "You will achieve this by completing the following task:\n",
        "- Task 7 - Save data to disk"
      ]
    },
    {
      "cell_type": "markdown",
      "metadata": {
        "id": "ccFlC9OGdejQ"
      },
      "source": [
        "## Task 7 - Save data to disk"
      ]
    },
    {
      "cell_type": "markdown",
      "metadata": {
        "id": "UqDs8HZ7dYZx"
      },
      "source": [
        "### Description\n",
        "In this task, learners are tasked with implementing a Python function named `dump_data()` that automates the process of persisting sales data, product details, and product descriptions into structured files within a specified directory. The function should efficiently organize and dump each type of data into its corresponding file format: CSV for sales data, JSON for product details, and plain text for product descriptions. This exercise challenges learners to apply file I/O operations, directory management, and data serialization techniques in Python, ensuring they gain practical experience with data persistence, manipulation, and organization on the filesystem."
      ]
    },
    {
      "cell_type": "markdown",
      "metadata": {
        "id": "ffUjhTwTdYRw"
      },
      "source": [
        "### Requirements\n",
        "- Define a function named `dump_data()` that dumps product details, sales data, and product descriptions into files within a specified main folder.\n",
        "- The function should accept four parameters:\n",
        "  - `sales_data`: A dictionary containing sales data, with SKU as keys and a list of sales quantities for the last 14 days as values.\n",
        "  - `product_details`: A dictionary containing product details, with SKU as keys and details as values. Details include attributes like name, brand, model, specifications, price, and availability.\n",
        "  - `product_descriptions`: A dictionary containing product descriptions, with SKU as keys and the textual description of the product as values.\n",
        "  - `main_folder`: A string representing the location of the main folder, which should contain *product_details* and *product_descriptions* subfolders.\n",
        "- The function performs the following operations:\n",
        "  - Dumps the `sales_data` into a CSV file named *sales_data.csv* located in the *main_folder*. Each row in the CSV file represents the sales data for a product, with fields for the SKU and sales quantities for each of the 14 days.\n",
        "  - Dumps each entry in `product_details` into a separate JSON file within the *product_details* subfolder of the *main_folder*. Each file is named after the SKU of the product and contains the details of that product in JSON format.\n",
        "  - Dumps each product description from `product_descriptions` into a separate TXT file within the *product_descriptions* subfolder of the *main_folder*. Each file is named after the SKU of the product and contains the textual description of that product.\n",
        "- Prior to dumping product details and descriptions, the function checks if the respective subfolders exist. If not, it creates them.\n",
        "- Usage:\n",
        "  - The function is designed to persist the current state of sales data, product details, and product descriptions to the filesystem, allowing for data backup and recovery. It organizes the persisted data into a structured directory and file system based on the specified *main_folder* path.\n"
      ]
    },
    {
      "cell_type": "markdown",
      "metadata": {
        "id": "bvtuWxwvdYOD"
      },
      "source": [
        "### Recommendations\n",
        "- Ensure that you are writing the data down with the same folder structure as the original folder.\n",
        "- You may want to learn more about the `DictWriter()` object from the `csv` library to write the sales data.\n",
        "- Make sure that you open files with a 'w' (write) parameter so that you are overwriting the files and not appending to them."
      ]
    },
    {
      "cell_type": "code",
      "execution_count": null,
      "metadata": {
        "id": "PMuHRcMELNoq"
      },
      "outputs": [],
      "source": [
        "def dump_data(sales_data, product_details, product_descriptions, main_folder):\n",
        "    \"\"\"\n",
        "    Dump product details, sales data, and product descriptions to files.\n",
        "\n",
        "    Parameters:\n",
        "        sales_data (dict): The dictionary containing sales data.\n",
        "        product_details (dict): The dictionary containing product details.\n",
        "        product_descriptions (dict): The dictionary containing product descriptions.\n",
        "        main_folder (str): The location of the main folder containing product_details and product_descriptions folders.\n",
        "    \"\"\"\n",
        "\n",
        "  # Create the necessary folders if they do not exist\n",
        "    product_details_folder = os.path.join(main_folder, 'product_details')\n",
        "    product_descriptions_folder = os.path.join(main_folder, 'product_descriptions')\n",
        "\n",
        "    # Create the folders if they don't already exist\n",
        "    os.makedirs(product_details_folder, exist_ok=True)\n",
        "    os.makedirs(product_descriptions_folder, exist_ok=True)\n",
        "\n",
        "    # Define file paths\n",
        "    sales_data_file = os.path.join(main_folder, 'sales_data.json')\n",
        "    product_details_file = os.path.join(product_details_folder, 'product_details.json')\n",
        "    product_descriptions_file = os.path.join(product_descriptions_folder, 'product_descriptions.json')\n",
        "\n",
        "    # Dump sales data to sales_data.json\n",
        "    with open(sales_data_file, 'w') as f:\n",
        "        json.dump(sales_data, f, indent=4)\n",
        "\n",
        "    # Dump product details to product_details.json\n",
        "    with open(product_details_file, 'w') as f:\n",
        "        json.dump(product_details, f, indent=4)\n",
        "\n",
        "    # Dump product descriptions to product_descriptions.json\n",
        "    with open(product_descriptions_file, 'w') as f:\n",
        "        json.dump(product_descriptions, f, indent=4)\n",
        "\n",
        "    print(f\"Data has been successfully dumped to {main_folder}\")"
      ]
    },
    {
      "cell_type": "markdown",
      "metadata": {
        "id": "Q0IRwQvIDAaB"
      },
      "source": [
        "Check your function here."
      ]
    },
    {
      "cell_type": "code",
      "execution_count": null,
      "metadata": {
        "id": "JvvgYdPUDBf6"
      },
      "outputs": [],
      "source": [
        "dump_data(sales_data, product_details, product_descriptions, main_folder_address)"
      ]
    },
    {
      "cell_type": "markdown",
      "source": [
        "You will notice that *mainfolder* now has new files in the product descriptions/details subfolders, as well as new rows in *sales_data.csv* corresponding to the products that you created in stage 2, and while checking your code."
      ],
      "metadata": {
        "id": "3cjHZPLcBt4t"
      }
    },
    {
      "cell_type": "markdown",
      "metadata": {
        "id": "N5PVdR8mATvh"
      },
      "source": [
        "### Checklist\n",
        "- Define the `dump_data()` function with the specified parameters.\n",
        "- Saved the sales data, product details and the product description into the respective files.\n",
        "- Ensured that the folder structure remains the same for future use."
      ]
    }
  ],
  "metadata": {
    "colab": {
      "provenance": []
    },
    "kernelspec": {
      "display_name": "Python 3 (ipykernel)",
      "language": "python",
      "name": "python3"
    },
    "language_info": {
      "codemirror_mode": {
        "name": "ipython",
        "version": 3
      },
      "file_extension": ".py",
      "mimetype": "text/x-python",
      "name": "python",
      "nbconvert_exporter": "python",
      "pygments_lexer": "ipython3",
      "version": "3.11.4"
    }
  },
  "nbformat": 4,
  "nbformat_minor": 0
}